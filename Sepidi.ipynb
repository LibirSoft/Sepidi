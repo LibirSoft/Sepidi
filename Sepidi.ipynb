{
  "nbformat": 4,
  "nbformat_minor": 0,
  "metadata": {
    "colab": {
      "name": "Sepidi.ipynb",
      "provenance": [],
      "authorship_tag": "ABX9TyOguSTno7VqxGyGc7Nu4NId",
      "include_colab_link": true
    },
    "kernelspec": {
      "name": "python3",
      "display_name": "Python 3"
    }
  },
  "cells": [
    {
      "cell_type": "markdown",
      "metadata": {
        "id": "view-in-github",
        "colab_type": "text"
      },
      "source": [
        "<a href=\"https://colab.research.google.com/github/LibirSoft/Sepidi/blob/main/Sepidi.ipynb\" target=\"_parent\"><img src=\"https://colab.research.google.com/assets/colab-badge.svg\" alt=\"Open In Colab\"/></a>"
      ]
    },
    {
      "cell_type": "code",
      "metadata": {
        "id": "1GaSYLVACZB3"
      },
      "source": [
        "from sklearn.datasets import load_iris\n",
        "from sklearn.model_selection import  train_test_split\n",
        "from sklearn import preprocessing\n",
        "from keras.utils import to_categorical\n",
        "from tensorflow.keras.models import Sequential\n",
        "from tensorflow.keras.layers import Dense\n",
        "import matplotlib.pyplot as plt\n",
        "\n",
        "\n",
        "iris=load_iris()"
      ],
      "execution_count": null,
      "outputs": []
    },
    {
      "cell_type": "code",
      "metadata": {
        "id": "vdzgSX31Xfo_"
      },
      "source": [
        "X=iris['data']\n",
        "Y=to_categorical(iris['target'])"
      ],
      "execution_count": null,
      "outputs": []
    },
    {
      "cell_type": "code",
      "metadata": {
        "id": "Ev28bhfAXjcS"
      },
      "source": [
        "X_train,X_test,Y_train,Y_test=train_test_split(X,Y, test_size=0.3)"
      ],
      "execution_count": null,
      "outputs": []
    },
    {
      "cell_type": "code",
      "metadata": {
        "id": "5hF0oBSHX9lm",
        "outputId": "df9b3afb-d722-4d0e-fd32-edbe8e43f5a7",
        "colab": {
          "base_uri": "https://localhost:8080/"
        }
      },
      "source": [
        "model=Sequential()\n",
        "model.add(Dense(64,input_dim=4,activation='relu'))\n",
        "model.add(Dense(128,activation='relu'))\n",
        "model.add(Dense(64,activation='relu'))\n",
        "model.add(Dense(3,activation='softmax'))\n",
        "model.compile(loss='categorical_crossentropy',optimizer='adam',metrics=['accuracy'])\n",
        "history=model.fit(X_train,Y_train,validation_data=(X_test,Y_test),epochs=15,batch_size=32)"
      ],
      "execution_count": null,
      "outputs": [
        {
          "output_type": "stream",
          "text": [
            "Epoch 1/15\n",
            "4/4 [==============================] - 0s 48ms/step - loss: 1.0845 - accuracy: 0.3429 - val_loss: 0.9968 - val_accuracy: 0.5333\n",
            "Epoch 2/15\n",
            "4/4 [==============================] - 0s 6ms/step - loss: 0.9160 - accuracy: 0.7143 - val_loss: 0.8856 - val_accuracy: 0.5556\n",
            "Epoch 3/15\n",
            "4/4 [==============================] - 0s 6ms/step - loss: 0.8104 - accuracy: 0.7143 - val_loss: 0.8339 - val_accuracy: 0.5556\n",
            "Epoch 4/15\n",
            "4/4 [==============================] - 0s 6ms/step - loss: 0.7232 - accuracy: 0.7143 - val_loss: 0.7733 - val_accuracy: 0.5556\n",
            "Epoch 5/15\n",
            "4/4 [==============================] - 0s 6ms/step - loss: 0.6464 - accuracy: 0.7143 - val_loss: 0.6749 - val_accuracy: 0.5556\n",
            "Epoch 6/15\n",
            "4/4 [==============================] - 0s 6ms/step - loss: 0.5715 - accuracy: 0.7524 - val_loss: 0.5907 - val_accuracy: 0.8000\n",
            "Epoch 7/15\n",
            "4/4 [==============================] - 0s 6ms/step - loss: 0.5065 - accuracy: 0.7905 - val_loss: 0.5516 - val_accuracy: 0.8000\n",
            "Epoch 8/15\n",
            "4/4 [==============================] - 0s 6ms/step - loss: 0.4522 - accuracy: 0.8381 - val_loss: 0.4866 - val_accuracy: 0.9556\n",
            "Epoch 9/15\n",
            "4/4 [==============================] - 0s 6ms/step - loss: 0.4077 - accuracy: 0.9143 - val_loss: 0.4563 - val_accuracy: 0.8222\n",
            "Epoch 10/15\n",
            "4/4 [==============================] - 0s 7ms/step - loss: 0.3959 - accuracy: 0.7619 - val_loss: 0.4226 - val_accuracy: 0.8444\n",
            "Epoch 11/15\n",
            "4/4 [==============================] - 0s 6ms/step - loss: 0.3451 - accuracy: 0.9048 - val_loss: 0.3907 - val_accuracy: 0.9333\n",
            "Epoch 12/15\n",
            "4/4 [==============================] - 0s 6ms/step - loss: 0.3644 - accuracy: 0.8857 - val_loss: 0.3363 - val_accuracy: 1.0000\n",
            "Epoch 13/15\n",
            "4/4 [==============================] - 0s 7ms/step - loss: 0.3144 - accuracy: 0.9143 - val_loss: 0.3542 - val_accuracy: 0.8667\n",
            "Epoch 14/15\n",
            "4/4 [==============================] - 0s 6ms/step - loss: 0.2943 - accuracy: 0.9048 - val_loss: 0.2976 - val_accuracy: 1.0000\n",
            "Epoch 15/15\n",
            "4/4 [==============================] - 0s 6ms/step - loss: 0.2771 - accuracy: 0.9714 - val_loss: 0.2777 - val_accuracy: 1.0000\n"
          ],
          "name": "stdout"
        }
      ]
    },
    {
      "cell_type": "code",
      "metadata": {
        "id": "7yB4vNyzYRxr",
        "outputId": "5ad3005e-73c7-44ad-ca52-1f89ba18fece",
        "colab": {
          "base_uri": "https://localhost:8080/",
          "height": 296
        }
      },
      "source": [
        "plt.plot(history.history['accuracy'])\n",
        "plt.plot(history.history['val_accuracy'])\n",
        "plt.xlabel(\"Epochs\")\n",
        "plt.ylabel(\"accuracy\")\n",
        "plt.legend([\"Training\",\"Validation\"])\n"
      ],
      "execution_count": null,
      "outputs": [
        {
          "output_type": "execute_result",
          "data": {
            "text/plain": [
              "<matplotlib.legend.Legend at 0x7f49680c3588>"
            ]
          },
          "metadata": {
            "tags": []
          },
          "execution_count": 33
        },
        {
          "output_type": "display_data",
          "data": {
            "image/png": "[encoded data removed]",
            "text/plain": [
              "<Figure size 432x288 with 1 Axes>"
            ]
          },
          "metadata": {
            "tags": [],
            "needs_background": "light"
          }
        }
      ]
    }
  ]
}